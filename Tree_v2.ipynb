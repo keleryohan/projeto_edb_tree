{
  "nbformat": 4,
  "nbformat_minor": 0,
  "metadata": {
    "colab": {
      "name": "Tree_v2.ipynb",
      "version": "0.3.2",
      "provenance": [],
      "collapsed_sections": []
    },
    "kernelspec": {
      "name": "python3",
      "display_name": "Python 3"
    }
  },
  "cells": [
    {
      "metadata": {
        "id": "trMLH4oCd0IL",
        "colab_type": "text"
      },
      "cell_type": "markdown",
      "source": [
        "#Introdução"
      ]
    },
    {
      "metadata": {
        "id": "LFquYPImCGo4",
        "colab_type": "text"
      },
      "cell_type": "markdown",
      "source": [
        "#Árvores em Python: O que são e como se organizam."
      ]
    },
    {
      "metadata": {
        "id": "gcGOl22GGzWv",
        "colab_type": "text"
      },
      "cell_type": "markdown",
      "source": [
        "(versão keler )Uma Tree é uma estrutura de dados que tem como principal utilidade o fato de cada dado estar ligado a outro de forma hierarquica. \n",
        "De certa forma, as Trees se organizam como as árvores da natureza, tanto que daí vem o nome \"Tree\", com a diferença de começarem a partir das raízes e irem descendo até as folhas, como uma \"árvore invertida\".\n",
        "\n",
        "\n",
        "(versão italo)Quando vemos uma árvore no dia-a-dia, as raízes estão normalmente abaixo do solo e as folhas acima, no ar. Além disso, os galhos da árvore se ramificam a partir da raíz em uma certa ordem. Vale lembrar que as árvores não são estruturas de dados sequencias, ela é organizada como uma árvore, com a diferença de que a raíz está no topo e as folhas na base, uma \"árvore invertida\".\n",
        "\n",
        "\n",
        "![Upside down tree model](https://cdn-images-1.medium.com/max/347/1*h3koGce0YA7XP_xuAcZisg.png \"Exemplo ilustratório\")\n",
        "\n",
        "A palavra \"árvore\" (\"*tree*\", em inglês) é usada na computação quando falamos de uma forma em que os dados podem ser organizados. Nas árvores, temos nódulos (\"*nodes*\", em inglês) com ligações para outros nodes, e eles são os dados que queremos organizar. A raíz, \"*root*\", é o nódulo original, de onde todos os outros partem. Os termos \"*child*\" (plural \"*children*\"), \"*parent*\" (plural \"*parents*\") e \"sibling\" (plural \"*siblings*\") correspondem a \"filho\", \"pai\" e \"irmão\", respectivamente, e server para ilustrar a idéia da organização vertical de uma arvore, onde os nodes que dão origem a outros (abaixo dele) são \"pais\", os que surgem dele, seus \"filhos\" e filhos de um mesmo pai são \"irmãos\". Por fim, \"*leaf*\" (plural \"*leaves*\") é o termo usado para um node \"final\" que não é pai de nenhum outro, da mesma forma que não surgem galhos a partir das folhas de uma árvore.  Nas árvores, cada node ***pode*** ter um ou mais nodes abaixo dele (filhos) mas somente um acima (pai).\n",
        "\n",
        "![Model](https://i.ytimg.com/vi/qH6yxkw0u78/maxresdefault.jpg \"Esquema de uma 'tree'\")\n",
        "\n",
        "Python não tem um suporte já pronto para essa estrutura de dados, então iremos usar uma biblioteca para facilitar o aprendizado de como as trees são usadas. A biblioteca selecionada para ser usada nesse tutorial é \"*[anytree](https://pypi.org/project/anytree/)*\". ***(como python depende de bibliotecas para usar trees, os comandos variam dependendo de sua escolha e são de menor importância para seu aprendizado)***\n",
        "\n",
        "***É DE EXTREMA IMPORTÂNCIA QUE O CÓDIGO ABAIXO SEJA RODADO***"
      ]
    },
    {
      "metadata": {
        "id": "O1RvDxkuRSjg",
        "colab_type": "code",
        "colab": {}
      },
      "cell_type": "code",
      "source": [
        "#SEMPRE rode isso quando abrir o notebook para garantir que irá funcionar apropriadamente\n",
        "!pip install anytree\n",
        "!pip install anytree --user"
      ],
      "execution_count": 0,
      "outputs": []
    },
    {
      "metadata": {
        "id": "TAo0w9-Nf9_F",
        "colab_type": "text"
      },
      "cell_type": "markdown",
      "source": [
        "#Métodos"
      ]
    },
    {
      "metadata": {
        "id": "PvIFsqmpgFbk",
        "colab_type": "text"
      },
      "cell_type": "markdown",
      "source": [
        "Para começar, devemos importar alguns certos elementos de nossa biblioteca. Ative a cécula abaixo para prosseguir:"
      ]
    },
    {
      "metadata": {
        "id": "Z8OvrC-cgtoW",
        "colab_type": "code",
        "colab": {}
      },
      "cell_type": "code",
      "source": [
        "from anytree import Node, RenderTree"
      ],
      "execution_count": 0,
      "outputs": []
    },
    {
      "metadata": {
        "id": "8I5uYB48gtK8",
        "colab_type": "text"
      },
      "cell_type": "markdown",
      "source": [
        "Agora podemos começar a programar! Vamos começar criando um *node*. A sintaxe usada pela \"anytree\" é:\n",
        "> `~node-name~ = Node(~node-data~, parent = ~node-parent~)`\n",
        "\n"
      ]
    },
    {
      "metadata": {
        "id": "OY_6oXdDiKis",
        "colab_type": "code",
        "colab": {}
      },
      "cell_type": "code",
      "source": [
        "pessoas = Node(\"Pessoas no IMD\") #criando o node root"
      ],
      "execution_count": 0,
      "outputs": []
    },
    {
      "metadata": {
        "id": "eZFFmL3pi4E0",
        "colab_type": "text"
      },
      "cell_type": "markdown",
      "source": [
        "Note que 'pessoas' em minúsculo é o nome pelo qual iremos identificar o node dentro do código, e a string 'Pessoas no IMD' é o conteúdo de tal node. Percebeu que faltou a parte \n",
        "> ' `, parent = ~node-parent~` ' ?\n",
        "\n",
        "Como estamos criando o primeiro node, o root, ele não pode/deve ter nenhum pai.\n",
        "\n",
        "Agora, vamos criar mais nodes para preencher nossa árvore!"
      ]
    },
    {
      "metadata": {
        "id": "IgmNNR5Qn22D",
        "colab_type": "code",
        "colab": {}
      },
      "cell_type": "code",
      "source": [
        "estudantes = Node(\"Estudantes\", parent = pessoas)                           #\n",
        "\n",
        "aluno_1 = Node(\"Aluno 1\", parent = estudantes)                              #\n",
        "\n",
        "elementos_pessoais = Node(\"Informações pessoais\", parent = aluno_1)      # \n",
        "elementos_academicos = Node(\"Dados academicos\", parent = aluno_1)        #\n",
        "\n",
        "matricula = Node(123456789, parent = elementos_pessoais)                    #\n",
        "nome = Node(\"Joãozinho\", parent = elementos_pessoais)                       #\n",
        "endereco = Node(\"Rua dos bobos nº0\", parent = elementos_pessoais)           #\n",
        "\n",
        "cursos = Node(\"Disciplinas\", parent = elementos_academicos)                 #\n",
        "projetos = Node(\"Projetos acadêmicos\", parent = elementos_academicos)       #\n",
        "\n",
        "edb =  Node(\"Estrutura de Dados Básicas\", parent = cursos)                  #\n",
        "fmc2 = Node(\"FMC II\", parent = cursos)                                      #\n",
        "lp1 = Node(\"Linguagem de Programação I\", parent = cursos)                   #"
      ],
      "execution_count": 0,
      "outputs": []
    },
    {
      "metadata": {
        "id": "bDi-sRVgW7Jp",
        "colab_type": "text"
      },
      "cell_type": "markdown",
      "source": [
        "Vejamos como ficou nossa Tree estudantes"
      ]
    },
    {
      "metadata": {
        "id": "9nzDeNO0XCWy",
        "colab_type": "code",
        "outputId": "8959e6be-87b4-4344-d09d-639663845166",
        "colab": {
          "base_uri": "https://localhost:8080/",
          "height": 231
        }
      },
      "cell_type": "code",
      "source": [
        "print(RenderTree(estudantes)) #usamos a função RenderTree para printar nossa Tree. Usamos como parâmetro o primeiro Node que desejamos printar, e a função vai printar ele e todas as suas Children"
      ],
      "execution_count": 0,
      "outputs": [
        {
          "output_type": "stream",
          "text": [
            "Node('/Pessoas no IMD/Estudantes')\n",
            "└── Node('/Pessoas no IMD/Estudantes/Aluno 1')\n",
            "    ├── Node('/Pessoas no IMD/Estudantes/Aluno 1/Informações pessoais')\n",
            "    │   ├── Node('/Pessoas no IMD/Estudantes/Aluno 1/Informações pessoais/123456789')\n",
            "    │   ├── Node('/Pessoas no IMD/Estudantes/Aluno 1/Informações pessoais/Joãozinho')\n",
            "    │   └── Node('/Pessoas no IMD/Estudantes/Aluno 1/Informações pessoais/Rua dos bobos nº0')\n",
            "    └── Node('/Pessoas no IMD/Estudantes/Aluno 1/Dados academicos')\n",
            "        ├── Node('/Pessoas no IMD/Estudantes/Aluno 1/Dados academicos/Disciplinas')\n",
            "        │   ├── Node('/Pessoas no IMD/Estudantes/Aluno 1/Dados academicos/Disciplinas/Estrutura de Dados Básicas')\n",
            "        │   ├── Node('/Pessoas no IMD/Estudantes/Aluno 1/Dados academicos/Disciplinas/FMC II')\n",
            "        │   └── Node('/Pessoas no IMD/Estudantes/Aluno 1/Dados academicos/Disciplinas/Linguagem de Programação I')\n",
            "        └── Node('/Pessoas no IMD/Estudantes/Aluno 1/Dados academicos/Projetos acadêmicos')\n"
          ],
          "name": "stdout"
        }
      ]
    },
    {
      "metadata": {
        "id": "Rm5C260jYCNT",
        "colab_type": "text"
      },
      "cell_type": "markdown",
      "source": [
        "Outro exemplo mais complexo, usando a hierarquia do exercito brasileiro:"
      ]
    },
    {
      "metadata": {
        "id": "PvQI80pGXtep",
        "colab_type": "code",
        "colab": {}
      },
      "cell_type": "code",
      "source": [
        "subtenente=Node(\"Subtenente\",salario=\"6169,00\",categoria=\"Praças\")\n",
        "primeiro_sargento=Node(\"Primeiro Sargento\",salario=\"5483,00\",categoria=\"Praças\",parent=subtenente)\n",
        "segundo_sargento=Node(\"Segundo Sargento\",salario=\"4770,00\",categoria=\"Praças\",parent=primeiro_sargento)\n",
        "terceiro_sargento=Node(\"Terceiro Sargento\",salario=\"3825,00\",categoria=\"Praças\",parent=segundo_sargento)\n",
        "taifeiro_mor=Node(\"taifeiro_mor\",salario=\"2627,00\",categoria=\"Praças\",parent=terceiro_sargento)\n",
        "cabo=Node(\"cabo\",salario=\"2627,00\",categoria=\"Praças\",parent=terceiro_sargento)\n",
        "taifeiro_1classe=Node(\"taifeiro de primeira classe\",salario=\"2325,00\",categoria=\"Praças\",parent=taifeiro_mor)\n",
        "soldado=Node(\"Soldado\",salario=\"1560,00\",categoria=\"Praças\",parent=cabo)\n",
        "taifeiro_2classe=Node(\"taifeiro de segunda classe\",salario=\"2210,00\",categoria=\"Praças\",parent=taifeiro_1classe)"
      ],
      "execution_count": 0,
      "outputs": []
    },
    {
      "metadata": {
        "id": "-JOumxbba9em",
        "colab_type": "text"
      },
      "cell_type": "markdown",
      "source": [
        "Vejamos como ficou:\n",
        "(lembrando que isso é só uma aproximação da hierarquia militar)"
      ]
    },
    {
      "metadata": {
        "id": "P_Y7uDLIa17n",
        "colab_type": "code",
        "outputId": "f4bb54b2-667d-462c-faa0-6c335e2958e6",
        "colab": {
          "base_uri": "https://localhost:8080/",
          "height": 198
        }
      },
      "cell_type": "code",
      "source": [
        "print(RenderTree(subtenente))"
      ],
      "execution_count": 0,
      "outputs": [
        {
          "output_type": "stream",
          "text": [
            "Node('/Subtenente', categoria='Praças', salario='6169,00')\n",
            "└── Node('/Subtenente/Primeiro Sargento', categoria='Praças', salario='5483,00')\n",
            "    └── Node('/Subtenente/Primeiro Sargento/Segundo Sargento', categoria='Praças', salario='4770,00')\n",
            "        └── Node('/Subtenente/Primeiro Sargento/Segundo Sargento/Terceiro Sargento', categoria='Praças', salario='3825,00')\n",
            "            ├── Node('/Subtenente/Primeiro Sargento/Segundo Sargento/Terceiro Sargento/taifeiro_mor', categoria='Praças', salario='2627,00')\n",
            "            │   └── Node('/Subtenente/Primeiro Sargento/Segundo Sargento/Terceiro Sargento/taifeiro_mor/taifeiro de primeira classe', categoria='Praças', salario='2325,00')\n",
            "            │       └── Node('/Subtenente/Primeiro Sargento/Segundo Sargento/Terceiro Sargento/taifeiro_mor/taifeiro de primeira classe/taifeiro de segunda classe', categoria='Praças', salario='2210,00')\n",
            "            └── Node('/Subtenente/Primeiro Sargento/Segundo Sargento/Terceiro Sargento/cabo', categoria='Praças', salario='2627,00')\n",
            "                └── Node('/Subtenente/Primeiro Sargento/Segundo Sargento/Terceiro Sargento/cabo/Soldado', categoria='Praças', salario='1560,00')\n"
          ],
          "name": "stdout"
        }
      ]
    },
    {
      "metadata": {
        "id": "Q6SXp9YYbgOd",
        "colab_type": "text"
      },
      "cell_type": "markdown",
      "source": [
        "Note que não temos nenhum oficial em nossa Tree, para corrigir isso devemos colocar alguem com patente acima de subtentente, ou seja: devemos adicionar um Parent ao Node subtenente."
      ]
    },
    {
      "metadata": {
        "id": "1gUdGYGQcM77",
        "colab_type": "code",
        "colab": {}
      },
      "cell_type": "code",
      "source": [
        "primeiro_tenente=Node(\"Primeiro tenente\",salario=\"7796,00\",categoria=\"Oficiais subalternos\")\n",
        "segundo_tenente=Node(\"Segundo tenente\",salario=\"7490,00\",categoria=\"Oficiais subalternos\",parent=primeiro_tenente)\n",
        "aspirante_a_oficial=Node(\"Aspirante a oficial\",salario=\"6993,00\",categoria=\"Oficiais subalternos\",parent=segundo_tenente)\n",
        "#agora adicionando os oficiais à nossa tree:\n",
        "subtenente.parent=aspirante_a_oficial\n"
      ],
      "execution_count": 0,
      "outputs": []
    },
    {
      "metadata": {
        "id": "zjG7zo8Fddra",
        "colab_type": "code",
        "outputId": "2543d637-82c5-41d5-a53a-cee6c8da0070",
        "colab": {
          "base_uri": "https://localhost:8080/",
          "height": 251
        }
      },
      "cell_type": "code",
      "source": [
        "print(RenderTree(primeiro_tenente))"
      ],
      "execution_count": 0,
      "outputs": [
        {
          "output_type": "stream",
          "text": [
            "Node('/Primeiro tenente', categoria='Oficiais subalternos', salario='7796,00')\n",
            "└── Node('/Primeiro tenente/Segundo tenente', categoria='Oficiais subalternos', salario='7490,00')\n",
            "    └── Node('/Primeiro tenente/Segundo tenente/Aspirante a oficial', categoria='Oficiais subalternos', salario='6993,00')\n",
            "        └── Node('/Primeiro tenente/Segundo tenente/Aspirante a oficial/Subtenente', categoria='Praças', salario='6169,00')\n",
            "            └── Node('/Primeiro tenente/Segundo tenente/Aspirante a oficial/Subtenente/Primeiro Sargento', categoria='Praças', salario='5483,00')\n",
            "                └── Node('/Primeiro tenente/Segundo tenente/Aspirante a oficial/Subtenente/Primeiro Sargento/Segundo Sargento', categoria='Praças', salario='4770,00')\n",
            "                    └── Node('/Primeiro tenente/Segundo tenente/Aspirante a oficial/Subtenente/Primeiro Sargento/Segundo Sargento/Terceiro Sargento', categoria='Praças', salario='3825,00')\n",
            "                        ├── Node('/Primeiro tenente/Segundo tenente/Aspirante a oficial/Subtenente/Primeiro Sargento/Segundo Sargento/Terceiro Sargento/taifeiro_mor', categoria='Praças', salario='2627,00')\n",
            "                        │   └── Node('/Primeiro tenente/Segundo tenente/Aspirante a oficial/Subtenente/Primeiro Sargento/Segundo Sargento/Terceiro Sargento/taifeiro_mor/taifeiro de primeira classe', categoria='Praças', salario='2325,00')\n",
            "                        │       └── Node('/Primeiro tenente/Segundo tenente/Aspirante a oficial/Subtenente/Primeiro Sargento/Segundo Sargento/Terceiro Sargento/taifeiro_mor/taifeiro de primeira classe/taifeiro de segunda classe', categoria='Praças', salario='2210,00')\n",
            "                        └── Node('/Primeiro tenente/Segundo tenente/Aspirante a oficial/Subtenente/Primeiro Sargento/Segundo Sargento/Terceiro Sargento/cabo', categoria='Praças', salario='2627,00')\n",
            "                            └── Node('/Primeiro tenente/Segundo tenente/Aspirante a oficial/Subtenente/Primeiro Sargento/Segundo Sargento/Terceiro Sargento/cabo/Soldado', categoria='Praças', salario='1560,00')\n"
          ],
          "name": "stdout"
        }
      ]
    },
    {
      "metadata": {
        "id": "AD9Pi5N-duHP",
        "colab_type": "text"
      },
      "cell_type": "markdown",
      "source": [
        "Mas digamos que eu tenha acabado de ser promovido para segundo sargento e só queira saber quem eu vou mandar limpar o chão, vejamos quem seriam os candidatos: "
      ]
    },
    {
      "metadata": {
        "id": "2noauV58evVk",
        "colab_type": "code",
        "outputId": "10a6e400-0dbe-4940-afbd-7abd8c797182",
        "colab": {
          "base_uri": "https://localhost:8080/",
          "height": 162
        }
      },
      "cell_type": "code",
      "source": [
        "print(RenderTree(segundo_sargento))"
      ],
      "execution_count": 0,
      "outputs": [
        {
          "output_type": "stream",
          "text": [
            "Node('/Primeiro tenente/Segundo tenente/Aspirante a oficial/Subtenente/Primeiro Sargento/Segundo Sargento', categoria='Praças', salario='4770,00')\n",
            "└── Node('/Primeiro tenente/Segundo tenente/Aspirante a oficial/Subtenente/Primeiro Sargento/Segundo Sargento/Terceiro Sargento', categoria='Praças', salario='3825,00')\n",
            "    ├── Node('/Primeiro tenente/Segundo tenente/Aspirante a oficial/Subtenente/Primeiro Sargento/Segundo Sargento/Terceiro Sargento/taifeiro_mor', categoria='Praças', salario='2627,00')\n",
            "    │   └── Node('/Primeiro tenente/Segundo tenente/Aspirante a oficial/Subtenente/Primeiro Sargento/Segundo Sargento/Terceiro Sargento/taifeiro_mor/taifeiro de primeira classe', categoria='Praças', salario='2325,00')\n",
            "    │       └── Node('/Primeiro tenente/Segundo tenente/Aspirante a oficial/Subtenente/Primeiro Sargento/Segundo Sargento/Terceiro Sargento/taifeiro_mor/taifeiro de primeira classe/taifeiro de segunda classe', categoria='Praças', salario='2210,00')\n",
            "    └── Node('/Primeiro tenente/Segundo tenente/Aspirante a oficial/Subtenente/Primeiro Sargento/Segundo Sargento/Terceiro Sargento/cabo', categoria='Praças', salario='2627,00')\n",
            "        └── Node('/Primeiro tenente/Segundo tenente/Aspirante a oficial/Subtenente/Primeiro Sargento/Segundo Sargento/Terceiro Sargento/cabo/Soldado', categoria='Praças', salario='1560,00')\n"
          ],
          "name": "stdout"
        }
      ]
    },
    {
      "metadata": {
        "id": "UraK709OelTk",
        "colab_type": "text"
      },
      "cell_type": "markdown",
      "source": [
        "#Exercícios"
      ]
    },
    {
      "metadata": {
        "id": "6SfXUH2OeuKj",
        "colab_type": "text"
      },
      "cell_type": "markdown",
      "source": [
        "##Exercícios introdutórios"
      ]
    },
    {
      "metadata": {
        "id": "fcGDyLEbe9Vi",
        "colab_type": "text"
      },
      "cell_type": "markdown",
      "source": [
        "Vamos criar uma árvore simples. Para começar, devemos importar os seguintes elementos:"
      ]
    },
    {
      "metadata": {
        "id": "NjVLVpc3fej0",
        "colab_type": "code",
        "colab": {}
      },
      "cell_type": "code",
      "source": [
        "from anytree import Node, RenderTree"
      ],
      "execution_count": 0,
      "outputs": []
    },
    {
      "metadata": {
        "id": "r4k2b4qYhsMb",
        "colab_type": "text"
      },
      "cell_type": "markdown",
      "source": [
        " ***Primeiro exercício: ***\n",
        "\n",
        "   Faça uma Tree com as últimas três gerações masculinas de sua família (seu avô, tios-avô, pai, tios, etc...)"
      ]
    },
    {
      "metadata": {
        "id": "fHPiKNjiRYEn",
        "colab_type": "code",
        "colab": {}
      },
      "cell_type": "code",
      "source": [
        "#primeiro exercício"
      ],
      "execution_count": 0,
      "outputs": []
    },
    {
      "metadata": {
        "id": "qmepfQ2NnQMq",
        "colab_type": "text"
      },
      "cell_type": "markdown",
      "source": [
        "Antes de seguirmos para o próximo exercício, vamos introduzir um outro tipo de Node, o AnyNode. A única diferença em relação a estrutura é que enquanto o Node demanda obrigatoriamente um nome, o AnyNode não o faz. Além disso o AnyNode tem uma forma de printar um pouco diferente."
      ]
    },
    {
      "metadata": {
        "id": "-DdnUSgWnmhn",
        "colab_type": "code",
        "colab": {}
      },
      "cell_type": "code",
      "source": [
        "from anytree import AnyNode, RenderTree"
      ],
      "execution_count": 0,
      "outputs": []
    },
    {
      "metadata": {
        "id": "mDM-iLMPnngu",
        "colab_type": "code",
        "outputId": "8b394464-1c0d-4566-a53a-48deff7c07a9",
        "colab": {
          "base_uri": "https://localhost:8080/",
          "height": 88
        }
      },
      "cell_type": "code",
      "source": [
        "diretor = AnyNode(cargo=\"rei\",função=\"mandar em geral\")\n",
        "professor = AnyNode(cargo=\"executor\",função=\"executar servos e escravos\",parent=diretor)\n",
        "alunos_veteranos = AnyNode(cargo=\"servo\",função=\"trabalhar concientemente\",parent=professor)\n",
        "alunos_calouros = AnyNode(cargo=\"escravo\",função=\"trabalhar ingênuamente\",parent=professor)\n",
        "print(RenderTree(diretor))"
      ],
      "execution_count": 0,
      "outputs": [
        {
          "output_type": "stream",
          "text": [
            "AnyNode(cargo='rei', função='mandar em geral')\n",
            "└── AnyNode(cargo='executor', função='executar servos e escravos')\n",
            "    ├── AnyNode(cargo='servo', função='trabalhar concientemente')\n",
            "    └── AnyNode(cargo='escravo', função='trabalhar ingênuamente')\n"
          ],
          "name": "stdout"
        }
      ]
    },
    {
      "metadata": {
        "id": "8eB4Y_NRh03S",
        "colab_type": "text"
      },
      "cell_type": "markdown",
      "source": [
        "***Segundo exercício:***\n",
        "\n",
        "Monte uma Tree baseado na imagem a seguinte. Ela contém a hierarquia de um grupo mafioso asiático conhecido como Triad.\n",
        "![exercicio2](https://i2.wp.com/www.estilogangster.com.br/wp-content/uploads/2017/12/mafia-chinesa-triade.jpg?resize=662%2C473 \"hierarquia triad\")"
      ]
    },
    {
      "metadata": {
        "id": "j0q3Ql7ZRbUQ",
        "colab_type": "code",
        "colab": {}
      },
      "cell_type": "code",
      "source": [
        "#segundo exercício"
      ],
      "execution_count": 0,
      "outputs": []
    },
    {
      "metadata": {
        "id": "Er0LmB5rpM--",
        "colab_type": "text"
      },
      "cell_type": "markdown",
      "source": [
        "Agora vamos aprender outra forma, uma mais rápida, de criar Trees. \n",
        "\n",
        "\n",
        "O método children(usando como exemplo uma versão simplificada  da hierarquia católica):\n"
      ]
    },
    {
      "metadata": {
        "id": "1hA7X2HQll8U",
        "colab_type": "code",
        "outputId": "d08104c8-dfc1-454f-af11-098ef720e5fd",
        "colab": {
          "base_uri": "https://localhost:8080/",
          "height": 124
        }
      },
      "cell_type": "code",
      "source": [
        "from anytree import AnyNode, RenderTree\n",
        "Papa = AnyNode(nome=\"Papa\",children=[\n",
        "    AnyNode(nome=\"Arcebispo\",children=[\n",
        "        AnyNode(nome=\"Bispo\",children=[\n",
        "            AnyNode(nome=\"Padre Vigário\"),AnyNode(nome=\"Padre Paroco\",children=[AnyNode(nome=\"fiéis\")\n",
        "            ])\n",
        "        ])\n",
        "    ])\n",
        "])\n",
        "print(RenderTree(Papa))"
      ],
      "execution_count": 0,
      "outputs": [
        {
          "output_type": "stream",
          "text": [
            "AnyNode(nome='Papa')\n",
            "└── AnyNode(nome='Arcebispo')\n",
            "    └── AnyNode(nome='Bispo')\n",
            "        ├── AnyNode(nome='Padre Vigário')\n",
            "        └── AnyNode(nome='Padre Paroco')\n",
            "            └── AnyNode(nome='fiéis')\n"
          ],
          "name": "stdout"
        }
      ]
    }
  ]
}